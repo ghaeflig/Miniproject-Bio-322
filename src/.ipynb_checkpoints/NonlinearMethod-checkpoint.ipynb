{
 "cells": [
  {
   "cell_type": "markdown",
   "metadata": {},
   "source": [
    "Non linear Method"
   ]
  },
  {
   "cell_type": "markdown",
   "metadata": {},
   "source": [
    "## Communications:"
   ]
  },
  {
   "cell_type": "code",
   "execution_count": 1,
   "metadata": {},
   "outputs": [],
   "source": [
    "data <- read.csv(file.path(\"..\", \"data\", \"training_data.csv\"))"
   ]
  },
  {
   "cell_type": "code",
   "execution_count": 15,
   "metadata": {},
   "outputs": [],
   "source": [
    "set.seed(199)\n",
    "idx.train <- sample(nrow(data), nrow(data)*2/3)\n",
    "data.train <- data[idx.train,]\n",
    "data.test <- data[-idx.train,]\n",
    "#using more data samples\n",
    "datax.train<-data.train[,-which(names(data.train) %in% c(\"VALENCE.PLEASANTNESS\"))]\n",
    "datay.train<-data.train$VALENCE.PLEASANTNESS\n",
    "\n",
    "datax.test<-data.test[,-which(names(data.test) %in% c(\"VALENCE.PLEASANTNESS\"))]\n",
    "datay.test<-data.test$VALENCE.PLEASANTNESS\n"
   ]
  },
  {
   "cell_type": "code",
   "execution_count": 17,
   "metadata": {},
   "outputs": [
    {
     "ename": "ERROR",
     "evalue": "Error: Python module tensorflow.python.keras was not found.\n\nDetected Python configuration:\n\npython:         C:\\PROGRA~3\\ANACON~1\\python.exe\nlibpython:      C:/PROGRA~3/ANACON~1/python38.dll\npythonhome:     C:\\PROGRA~3\\ANACON~1\nversion:        3.8.3 (default, Jul  2 2020, 17:30:36) [MSC v.1916 64 bit (AMD64)]\nArchitecture:   64bit\nnumpy:          C:\\PROGRA~3\\ANACON~1\\lib\\site-packages\\numpy\nnumpy_version:  1.18.5\ntensorflow:     [NOT FOUND]\n\npython versions found: \n C:\\ProgramData\\Anaconda3\\envs\\r-tensorflow\\python.exe\n C:\\PROGRA~3\\ANACON~1\\envs\\MLPROJ~1\\python.exe\n C:\\PROGRA~3\\ANACON~1\\python.exe\n C:\\ProgramData\\Anaconda3\\python.exe\n C:\\ProgramData\\Anaconda3\\envs\\MLproject\\python.exe\n C:\\ProgramData\\Anaconda3\\envs\\bio322\\python.exe\n\n\n",
     "output_type": "error",
     "traceback": [
      "Error: Python module tensorflow.python.keras was not found.\n\nDetected Python configuration:\n\npython:         C:\\PROGRA~3\\ANACON~1\\python.exe\nlibpython:      C:/PROGRA~3/ANACON~1/python38.dll\npythonhome:     C:\\PROGRA~3\\ANACON~1\nversion:        3.8.3 (default, Jul  2 2020, 17:30:36) [MSC v.1916 64 bit (AMD64)]\nArchitecture:   64bit\nnumpy:          C:\\PROGRA~3\\ANACON~1\\lib\\site-packages\\numpy\nnumpy_version:  1.18.5\ntensorflow:     [NOT FOUND]\n\npython versions found: \n C:\\ProgramData\\Anaconda3\\envs\\r-tensorflow\\python.exe\n C:\\PROGRA~3\\ANACON~1\\envs\\MLPROJ~1\\python.exe\n C:\\PROGRA~3\\ANACON~1\\python.exe\n C:\\ProgramData\\Anaconda3\\python.exe\n C:\\ProgramData\\Anaconda3\\envs\\MLproject\\python.exe\n C:\\ProgramData\\Anaconda3\\envs\\bio322\\python.exe\n\n\nTraceback:\n",
      "1. keras_model_sequential() %>% layer_dense(units = 4, activation = \"relu\", \n .     input_shape = c(2)) %>% layer_dense(units = 1, activation = \"sigmoid\")",
      "2. eval(lhs, parent, parent)",
      "3. eval(lhs, parent, parent)",
      "4. keras_model_sequential()",
      "5. keras$models",
      "6. `$.python.builtin.module`(keras, \"models\")",
      "7. py_resolve_module_proxy(x)",
      "8. stop(message, call. = FALSE)"
     ]
    }
   ],
   "source": [
    "#first approach with neuralnetworks\n",
    "\n",
    "library(keras)\n",
    "use_condaenv(\"r-tensorflow\")\n",
    "\n",
    "nn <- keras_model_sequential() %>%\n",
    "      layer_dense(units = 4, activation = 'relu', input_shape = c(2)) %>%\n",
    "      layer_dense(units = 1, activation = 'sigmoid') # append layers\n",
    "summary(nn)\n",
    "\n",
    "history <- nn %>% fit(\n",
    "    as.matrix(datax.train),\n",
    "    datay.train,\n",
    "    batch_size = ncols(datax.train),\n",
    "    epochs = 1000,\n",
    "    validation_split = 0, # use all data for training, none for validation.\n",
    ")\n",
    "plot(history)\n",
    "\n",
    "pred <- predict(nn, as.matrix(datax.train))\n",
    "plot(datax.train, col = pred+2)\n",
    "misclassified <- pred != datay.train\n",
    "points(X[misclassified,], pch = 4)"
   ]
  },
  {
   "cell_type": "code",
   "execution_count": null,
   "metadata": {},
   "outputs": [],
   "source": [
    "#with convolutional layers\n",
    "conv.nn <- keras_model_sequential()\n",
    "conv.nn %>%\n",
    "  layer_conv_2d(32, c(5, 5), activation = 'relu', input_shape = c(32, 32, 1)) %>%\n",
    "  layer_conv_2d(64, c(5, 5), activation = 'relu') %>%\n",
    "  layer_flatten() %>%\n",
    "  layer_dense(units = 128, activation = 'relu') %>%\n",
    "  layer_dense(units = 1, activation = 'sigmoid')\n",
    "conv.nn %>% compile(\n",
    "  loss = 'binary_crossentropy',\n",
    "  optimizer = 'adam',\n",
    "  metrics = c('accuracy')\n",
    ")\n",
    "history <- conv.nn %>% fit(\n",
    "  x_train, y_train,\n",
    "  epochs = 5, batch_size = 128,\n",
    "  validation_split = 0.1\n",
    ")\n",
    "plot(history)"
   ]
  },
  {
   "cell_type": "markdown",
   "metadata": {},
   "source": [
    "## Trees"
   ]
  },
  {
   "cell_type": "markdown",
   "metadata": {},
   "source": [
    "peut etre faire cross validation sur la methode qui donne le moins de RMSE "
   ]
  },
  {
   "cell_type": "code",
   "execution_count": 2,
   "metadata": {},
   "outputs": [],
   "source": [
    "data <- read.csv(file.path(\"..\", \"data\", \"training_data.csv\"))"
   ]
  },
  {
   "cell_type": "code",
   "execution_count": 3,
   "metadata": {},
   "outputs": [
    {
     "name": "stderr",
     "output_type": "stream",
     "text": [
      "randomForest 4.6-14\n",
      "Type rfNews() to see new features/changes/bug fixes.\n"
     ]
    }
   ],
   "source": [
    "library(tree)\n",
    "library(randomForest)\n",
    "library(xgboost)"
   ]
  },
  {
   "cell_type": "code",
   "execution_count": 19,
   "metadata": {},
   "outputs": [],
   "source": [
    "set.seed(199)\n",
    "idx.train <- sample(nrow(data), nrow(data)/2)\n",
    "data.train <- data[idx.train,]\n",
    "data.test <- data[-idx.train,]\n",
    "\n",
    "data.train.x <- data.train[,-which(names(data.train) %in% c(\"VALENCE.PLEASANTNESS\"))]\n",
    "data.train.x <- as.matrix((model.matrix(~.-1, data.train.x)))\n",
    "data.train.y <- data.train$VALENCE.PLEASANTNESS\n",
    "\n",
    "data.test.x <- data.test[,-which(names(data.test) %in% c(\"VALENCE.PLEASANTNESS\"))]\n",
    "data.test.x<- as.matrix((model.matrix(~.-1, data.test.x)))\n",
    "data.test.y <- data.test$VALENCE.PLEASANTNESS"
   ]
  },
  {
   "cell_type": "code",
   "execution_count": 8,
   "metadata": {},
   "outputs": [
    {
     "data": {
      "text/plain": [
       "\n",
       "Regression tree:\n",
       "tree(formula = VALENCE.PLEASANTNESS ~ ., data = data.train)\n",
       "Variables actually used in tree construction:\n",
       " [1] \"SWEETORSOUR\" \"R3e.\"        \"Mor10s\"      \"E1m\"         \"Mor22p\"     \n",
       " [6] \"RDF040e\"     \"R6s\"         \"Mor06m\"      \"LOC\"         \"G3u\"        \n",
       "[11] \"Mor24v\"      \"Mor09s\"      \"HATS6p\"      \"R6s.\"       \n",
       "Number of terminal nodes:  15 \n",
       "Residual mean deviance:  157.2 = 53310 / 339 \n",
       "Distribution of residuals:\n",
       "   Min. 1st Qu.  Median    Mean 3rd Qu.    Max. \n",
       "-39.670  -7.163  -1.392   0.000   6.988  32.350 "
      ]
     },
     "metadata": {},
     "output_type": "display_data"
    },
    {
     "name": "stdout",
     "output_type": "stream",
     "text": [
      "[1] \"MSE :431.818095518114\"\n",
      "[1] \"RMSE :20.7802332883467\"\n"
     ]
    }
   ],
   "source": [
    "#Tree\n",
    "tree.data.train <- tree(VALENCE.PLEASANTNESS ~ ., data = data.train)\n",
    "summary(tree.data.train)\n",
    "#plot(tree.data)\n",
    "#text(tree.data, pretty = 0,cex=0.4)\n",
    "\n",
    "pred.test <- predict(tree.data.train, newdata = data.test.x)\n",
    "MSE.test <- mean((pred.test - data.test.y)^2)\n",
    "RMSE.test <- sqrt(MSE)\n",
    "print(paste0('test MSE :', MSE.test))\n",
    "print(paste0('test RMSE :', RMSE.test))\n",
    "\n",
    "pred.train <- predict(tree.data.train,data.train.x)\n",
    "MSE.train <- mean((pred.trin - data.train.y)^2)\n",
    "RMSE.train <- sqrt(MSE)\n",
    "print(paste0('train MSE :', MSE.train))\n",
    "print(paste0('train RMSE :', RMSE.train))\n"
   ]
  },
  {
   "cell_type": "code",
   "execution_count": 12,
   "metadata": {},
   "outputs": [
    {
     "ename": "ERROR",
     "evalue": "Error in UseMethod(\"predict\"): pas de méthode pour 'predict' applicable pour un objet de classe \"singlenode\"\n",
     "output_type": "error",
     "traceback": [
      "Error in UseMethod(\"predict\"): pas de méthode pour 'predict' applicable pour un objet de classe \"singlenode\"\nTraceback:\n",
      "1. sapply(1:50, pruning_tree, data.train, data.test)",
      "2. lapply(X = X, FUN = FUN, ...)",
      "3. FUN(X[[i]], ...)",
      "4. predict(pt, data.test)   # at line 5 of file <text>"
     ]
    }
   ],
   "source": [
    "#Pruning tree ne fonctionne pas !\n",
    "pruning_tree <- function(b,data.train,data.test) {\n",
    "    tree.train <- tree(VALENCE.PLEASANTNESS ~ ., data = data.train)\n",
    "    pt <- prune.tree(tree.train, best = b) #ntree = 500 by default\n",
    "    pred <- predict(pt, data.test)\n",
    "    MSE = mean((pred - data.test$VALENCE.PLEASANTNESS)^2)\n",
    "    sqrt(MSE)\n",
    "}\n",
    "\n",
    "RMSE <- sapply(1:50, pruning_tree, data.train, data.test)\n",
    "\n",
    "#plot(50:100,RMSE,xlab='m',ylab='RMSE')\n",
    "which.min(RMSE) # min = 100\n",
    "print(paste0('m that give the min test RMSE is :', which.min(RMSE))) \n",
    "print(paste0('test RMSE min :', RMSE(which.min(RMSE))))"
   ]
  },
  {
   "cell_type": "code",
   "execution_count": null,
   "metadata": {},
   "outputs": [],
   "source": [
    "#Random Forest (normalement ok)\n",
    "random_forest <- function(m,data.train,data.test) {\n",
    "    rf <- randomForest(VALENCE.PLEASANTNESS ~ ., data = data.train, mtry = m) #ntree = 500 by default\n",
    "    pred <- predict(rf, data.test[,-which(names(data.train) %in% c(\"VALENCE.PLEASANTNESS\"))])\n",
    "    MSE = mean((pred - data.test$VALENCE.PLEASANTNESS)^2)\n",
    "    sqrt(MSE)\n",
    "}\n",
    "\n",
    "RMSE.test <- sapply(50:100, random_forest, data.train, data.test)\n",
    "#I choose m between 50 and 100 because sqrt(p) = 70 = typical choice for random forest\n",
    "plot(50:100,RMSE.test,xlab='m',ylab='test RMSE')\n",
    "which.min(RMSE.test) # min = 100\n",
    "print(paste0('m that give the min test RMSE is :', which.min(RMSE.test) + 49)) #Change the 49 if we change the intervall of m 50:100\n",
    "print(paste0('test RMSE min :', RMSE.test(which.min(RMSE.test))))\n",
    "\n",
    "#--> m that give the min RMSE is 100\n",
    "#--> min RMSE little less than 22\n",
    "\n",
    "#RMSE.train <- sapply(50:100, random_forest, data.train, data.train)\n",
    "#which.min(RMSE.train) \n",
    "#print(paste0('m that give the min train RMSE is :', which.min(RMSE.train) + 49)) #Change the 49 if we change the intervall of m 50:100\n",
    "#print(paste0('train RMSE min :', RMSE.train(which.min(RMSE.train))))"
   ]
  },
  {
   "cell_type": "code",
   "execution_count": null,
   "metadata": {},
   "outputs": [],
   "source": [
    "#Bagging (normalement ok)\n",
    "set.seed(1)\n",
    "m <- 4871 # in Bagging, we consider all the predictors as split candidates\n",
    "bag <- randomForest(VALENCE.PLEASANTNESS ~ ., data = data.train, mtry = m) #ntree = 500 par defaut, peut etre essayer avec 1000 une fois ?\n",
    "pred.bag.test <- predict(bag, newdata = data.test.x)\n",
    "MSE.test = mean((pred.bag.test - data.test.y)^2)\n",
    "RMSE.test = sqrt(MSE.test)\n",
    "print(paste0('test MSE :', MSE.test))\n",
    "print(paste0('test RMSE :', RMSE.test))\n",
    "#--> RMSE = 18.4237592975258\n",
    "\n",
    "pred.bag.train <- predict(bag,data.train.x)\n",
    "MSE.train = mean((pred.bag.train - data.train.y)^2)\n",
    "RMSE.train = sqrt(MSE.train)\n",
    "print(paste0('train MSE :', MSE.train))\n",
    "print(paste0('train RMSE :', RMSE.train))"
   ]
  },
  {
   "cell_type": "code",
   "execution_count": null,
   "metadata": {},
   "outputs": [],
   "source": [
    "#Boosting with cross sur le meilleur lambda?\n",
    "#importance_matrix <- xgb.importance(model=boost.hitters)\n",
    "#xgb.plot.importance(importance_matrix=importance_matrix)\n",
    "\n",
    "set.seed(1)\n",
    "pows <- seq(-3.5, -0.2, by = 0.1)\n",
    "lambdas <- 10^pows\n",
    "train.err <- rep(NA, length(lambdas))\n",
    "test.err <- rep(NA, length(lambdas))\n",
    "for (i in 1:length(lambdas)) {\n",
    "  boost <- xgboost(data.train.x,\n",
    "                           label=data.train.y,\n",
    "                           eta=lambdas[i],\n",
    "                           objective=\"reg:squarederror\",\n",
    "                           max.depth=3,\n",
    "                           nrounds=1000,\n",
    "                           verbose = 0)\n",
    "  pred.train <- predict(boost, data.train.x)\n",
    "  pred.test <- predict(boost, data.test.x)\n",
    "  train.err[i] <- mean((pred.train - data.train.y)^2)\n",
    "  test.err[i] <- mean((pred.test - data.test.y)^2)\n",
    "}\n",
    "\n",
    "#plot(log(lambdas), log(train.err), type=\"b\", xlab=\"log Shrinkage values\", ylab=\"log Training MSE\")\n",
    "#plot(log(lambdas), log(test.err), type=\"b\", xlab=\"log Shrinkage values\", ylab=\"log Test MSE\")\n",
    "#points(log(lambdas[which.min(test.err)]), log(min(test.err)), col=\"red\", pch=19)\n",
    "\n",
    "MSEmin.test <- min(test.err)\n",
    "lambdamin.test <- lambdas[which.min(test.err)]\n",
    "MSEmin.train <- min(train.err)\n",
    "lambdamin.train <- lambdas[which.min(train.err)]\n",
    "\n",
    "print(paste0('test RMSE :', sqrt(MSEmin.test)))\n",
    "print(paste0('lambda min test :', lambdamin.test))\n",
    "print(paste0('train RMSE :', sqrt(MSEmin.train)))\n",
    "print(paste0('lambda min test :', lambdamin.train))"
   ]
  },
  {
   "cell_type": "code",
   "execution_count": null,
   "metadata": {},
   "outputs": [],
   "source": [
    "#plot(log(lambdas), log(train.err), type=\"b\", xlab=\"log Shrinkage values\", ylab=\"log Training MSE\")\n",
    "#plot(log(lambdas), log(test.err), type=\"b\", xlab=\"log Shrinkage values\", ylab=\"log Test MSE\")\n",
    "#points(log(lambdas[which.min(test.err)]), log(min(test.err)), col=\"red\", pch=19)"
   ]
  },
  {
   "cell_type": "code",
   "execution_count": null,
   "metadata": {},
   "outputs": [],
   "source": [
    "#importance_matrix <- xgb.importance(model=boost)\n",
    "#xgb.plot.importance(importance_matrix=importance_matrix)"
   ]
  },
  {
   "cell_type": "code",
   "execution_count": 13,
   "metadata": {},
   "outputs": [],
   "source": [
    "#Pruning tree with cv\n",
    "#We run 6-fold cross-validation, because our training data has size 354, which is a multiple of 6.\n",
    "\n",
    "function.train <- function(train) {\n",
    "    formula <- data$VALENCE.PLEASANTNESS ~ .\n",
    "    tree(formula, data, subset = train)\n",
    "}\n",
    "evaluate <- function(tree, set) {\n",
    "    sapply(2:10, function(i) mean((data$VALENCE.PLEASANTNESS[set] - predict(prune.tree(tree, best = i), data[set,]))^2)) # We compute the mean squared error for all trees with 2 to 10 leaf nodes.\n",
    "}\n",
    "           \n",
    "           #log(Hitters[set,'Salary'])\n",
    "data.cv <- function(train) {\n",
    "    res <- sapply(1:6, function(v) {\n",
    "                            idx.test <- seq((v-1)*22 + 1, v*22) # fold index\n",
    "                            this.fold.test <- train[idx.test]   # validation\n",
    "                            this.fold.train <- train[-idx.test] # training\n",
    "                            tree <- function.train(this.fold.train)\n",
    "                            evaluate(tree, this.fold.test)\n",
    "                        })\n",
    "    rowMeans(data.frame(res))\n",
    "}\n",
    "           \n",
    "train.and.evaluate <- function() {\n",
    "    train <- sample(nrow(data), 354) #nrow = 708 et 354 = training set\n",
    "    tree <- function.train(train)\n",
    "    list(train = evaluate(tree, train),\n",
    "         test = evaluate(tree, -train),\n",
    "         cv = data.cv(train),\n",
    "         tree = tree)\n",
    "}\n",
    "           \n",
    "set.seed(1)\n",
    "           \n",
    "res <- replicate(100, train.and.evaluate()) # we run everything for 100 different training sets"
   ]
  },
  {
   "cell_type": "code",
   "execution_count": null,
   "metadata": {},
   "outputs": [],
   "source": [
    "for(i in 1:3) {\n",
    "    df <- data.frame(res[i,])\n",
    "    m <- rowMeans(df)\n",
    "    RMSE <- sqrt(rowMeans((df - m)^2))\n",
    "    print(paste0('RMSE ',i,' : ', RMSE))\n",
    "}\n",
    "#1=train RMSE\n",
    "#2=test RMSE\n",
    "#3=CV"
   ]
  },
  {
   "cell_type": "code",
   "execution_count": 17,
   "metadata": {},
   "outputs": [
    {
     "data": {
      "image/png": "[encoded data removed]",
      "text/plain": [
       "plot without title"
      ]
     },
     "metadata": {},
     "output_type": "display_data"
    }
   ],
   "source": [
    "std.plot <- function(data, x = 2:10, ...) {\n",
    "    df <- data.frame(data)\n",
    "    m <- rowMeans(df)\n",
    "    std <- sqrt(rowMeans((df - m)^2))\n",
    "    points(x, m, type = \"b\", ...)\n",
    "    arrows(x, m - std, x, m + std, length=0.05, angle=90, code=3, ...)\n",
    "}\n",
    "#attention ici j'ai l'inpressioin que c'est une RMSE au lieu d'une MSE ? a cause du sqrt dans stdplot\n",
    "#print(paste0('the min train MSE :', res[1,which.min(res[1,])]))\n",
    "#print(paste0(res[2,which.min(res[1,])]))\n",
    "#print(paste0(res[3,which.min(res[1,])]))\n",
    "\n",
    "plot(c(), ylim = c(.1, 450), xlim = c(2, 10), xlab = \"Tree Size\", ylab = \"Mean Squared Error\")\n",
    "std.plot(res[1,])\n",
    "std.plot(res[2,], col = \"red\")\n",
    "std.plot(res[3,], col = \"blue\")\n",
    "legend(\"bottomleft\", c(\"train\", \"test\", \"CV\"), bty = 'n', col = c(\"black\", \"red\", \"blue\"), lty = 1)\n",
    "#final.tree <- prune.tree(hitters.train(1:nrow(Hitters)), best = ????)\n",
    "#plot(final.tree)\n",
    "#text(final.tree)"
   ]
  },
  {
   "cell_type": "code",
   "execution_count": null,
   "metadata": {},
   "outputs": [],
   "source": []
  }
 ],
 "metadata": {
  "kernelspec": {
   "display_name": "R",
   "language": "R",
   "name": "ir"
  },
  "language_info": {
   "codemirror_mode": "r",
   "file_extension": ".r",
   "mimetype": "text/x-r-source",
   "name": "R",
   "pygments_lexer": "r",
   "version": "3.6.1"
  }
 },
 "nbformat": 4,
 "nbformat_minor": 4
}
