{
 "cells": [
  {
   "cell_type": "markdown",
   "metadata": {},
   "source": [
    "Non linear Method"
   ]
  },
  {
   "cell_type": "markdown",
   "metadata": {},
   "source": [
    "## Communications:\n"
   ]
  },
  {
   "cell_type": "code",
   "execution_count": 14,
   "metadata": {},
   "outputs": [],
   "source": [
    "data <- read.csv(file.path(\"..\", \"data\", \"training_data.csv\"))"
   ]
  },
  {
   "cell_type": "code",
   "execution_count": 15,
   "metadata": {},
   "outputs": [],
   "source": [
    "set.seed(199)\n",
    "idx.train <- sample(nrow(data), nrow(data)*2/3)\n",
    "data.train <- data[idx.train,]\n",
    "data.test <- data[-idx.train,]\n",
    "#using more data samples\n",
    "datax.train<-data.train[,-which(names(data.train) %in% c(\"VALENCE.PLEASANTNESS\"))]\n",
    "datay.train<-data.train$VALENCE.PLEASANTNESS\n",
    "\n",
    "datax.test<-data.test[,-which(names(data.test) %in% c(\"VALENCE.PLEASANTNESS\"))]\n",
    "datay.test<-data.test$VALENCE.PLEASANTNESS\n"
   ]
  },
  {
   "cell_type": "code",
   "execution_count": 17,
   "metadata": {},
   "outputs": [
    {
     "ename": "ERROR",
     "evalue": "Error: Python module tensorflow.python.keras was not found.\n\nDetected Python configuration:\n\npython:         C:\\PROGRA~3\\ANACON~1\\python.exe\nlibpython:      C:/PROGRA~3/ANACON~1/python38.dll\npythonhome:     C:\\PROGRA~3\\ANACON~1\nversion:        3.8.3 (default, Jul  2 2020, 17:30:36) [MSC v.1916 64 bit (AMD64)]\nArchitecture:   64bit\nnumpy:          C:\\PROGRA~3\\ANACON~1\\lib\\site-packages\\numpy\nnumpy_version:  1.18.5\ntensorflow:     [NOT FOUND]\n\npython versions found: \n C:\\ProgramData\\Anaconda3\\envs\\r-tensorflow\\python.exe\n C:\\PROGRA~3\\ANACON~1\\envs\\MLPROJ~1\\python.exe\n C:\\PROGRA~3\\ANACON~1\\python.exe\n C:\\ProgramData\\Anaconda3\\python.exe\n C:\\ProgramData\\Anaconda3\\envs\\MLproject\\python.exe\n C:\\ProgramData\\Anaconda3\\envs\\bio322\\python.exe\n\n\n",
     "output_type": "error",
     "traceback": [
      "Error: Python module tensorflow.python.keras was not found.\n\nDetected Python configuration:\n\npython:         C:\\PROGRA~3\\ANACON~1\\python.exe\nlibpython:      C:/PROGRA~3/ANACON~1/python38.dll\npythonhome:     C:\\PROGRA~3\\ANACON~1\nversion:        3.8.3 (default, Jul  2 2020, 17:30:36) [MSC v.1916 64 bit (AMD64)]\nArchitecture:   64bit\nnumpy:          C:\\PROGRA~3\\ANACON~1\\lib\\site-packages\\numpy\nnumpy_version:  1.18.5\ntensorflow:     [NOT FOUND]\n\npython versions found: \n C:\\ProgramData\\Anaconda3\\envs\\r-tensorflow\\python.exe\n C:\\PROGRA~3\\ANACON~1\\envs\\MLPROJ~1\\python.exe\n C:\\PROGRA~3\\ANACON~1\\python.exe\n C:\\ProgramData\\Anaconda3\\python.exe\n C:\\ProgramData\\Anaconda3\\envs\\MLproject\\python.exe\n C:\\ProgramData\\Anaconda3\\envs\\bio322\\python.exe\n\n\nTraceback:\n",
      "1. keras_model_sequential() %>% layer_dense(units = 4, activation = \"relu\", \n .     input_shape = c(2)) %>% layer_dense(units = 1, activation = \"sigmoid\")",
      "2. eval(lhs, parent, parent)",
      "3. eval(lhs, parent, parent)",
      "4. keras_model_sequential()",
      "5. keras$models",
      "6. `$.python.builtin.module`(keras, \"models\")",
      "7. py_resolve_module_proxy(x)",
      "8. stop(message, call. = FALSE)"
     ]
    }
   ],
   "source": [
    "#first approach with neuralnetworks\n",
    "\n",
    "library(keras)\n",
    "use_condaenv(\"r-tensorflow\")\n",
    "\n",
    "nn <- keras_model_sequential() %>%\n",
    "      layer_dense(units = 4, activation = 'relu', input_shape = c(2)) %>%\n",
    "      layer_dense(units = 1, activation = 'sigmoid') # append layers\n",
    "summary(nn)\n",
    "\n",
    "history <- nn %>% fit(\n",
    "    as.matrix(datax.train),\n",
    "    datay.train,\n",
    "    batch_size = ncols(datax.train),\n",
    "    epochs = 1000,\n",
    "    validation_split = 0, # use all data for training, none for validation.\n",
    ")\n",
    "plot(history)\n",
    "\n",
    "pred <- predict(nn, as.matrix(datax.train))\n",
    "plot(datax.train, col = pred+2)\n",
    "misclassified <- pred != datay.train\n",
    "points(X[misclassified,], pch = 4)"
   ]
  },
  {
   "cell_type": "code",
   "execution_count": null,
   "metadata": {},
   "outputs": [],
   "source": [
    "#with convolutional layers\n",
    "conv.nn <- keras_model_sequential()\n",
    "conv.nn %>%\n",
    "  layer_conv_2d(32, c(5, 5), activation = 'relu', input_shape = c(32, 32, 1)) %>%\n",
    "  layer_conv_2d(64, c(5, 5), activation = 'relu') %>%\n",
    "  layer_flatten() %>%\n",
    "  layer_dense(units = 128, activation = 'relu') %>%\n",
    "  layer_dense(units = 1, activation = 'sigmoid')\n",
    "conv.nn %>% compile(\n",
    "  loss = 'binary_crossentropy',\n",
    "  optimizer = 'adam',\n",
    "  metrics = c('accuracy')\n",
    ")\n",
    "history <- conv.nn %>% fit(\n",
    "  x_train, y_train,\n",
    "  epochs = 5, batch_size = 128,\n",
    "  validation_split = 0.1\n",
    ")\n",
    "plot(history)"
   ]
  }
 ],
 "metadata": {
  "kernelspec": {
   "display_name": "R",
   "language": "R",
   "name": "ir"
  },
  "language_info": {
   "codemirror_mode": "r",
   "file_extension": ".r",
   "mimetype": "text/x-r-source",
   "name": "R",
   "pygments_lexer": "r",
   "version": "3.6.1"
  }
 },
 "nbformat": 4,
 "nbformat_minor": 4
}
